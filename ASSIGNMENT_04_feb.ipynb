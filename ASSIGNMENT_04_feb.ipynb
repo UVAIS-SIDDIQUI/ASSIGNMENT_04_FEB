{
 "cells": [
  {
   "cell_type": "markdown",
   "id": "c9bc547b-f690-4164-b066-13d9ffb926a6",
   "metadata": {
    "jupyter": {
     "source_hidden": true
    },
    "tags": []
   },
   "source": [
    "# Q1. Create a python program to sort the given list of tuples based on integer value using a \n",
    "# lambda function.\n",
    "\n",
    "[('Sachin Tendulkar', 34357), ('Ricky Ponting', 27483), ('Jack Kallis', 25534), ('Virat Kohli', 24936)]"
   ]
  },
  {
   "cell_type": "code",
   "execution_count": 23,
   "id": "59e23619-a4e6-4c1d-a72f-1752924b0423",
   "metadata": {},
   "outputs": [],
   "source": [
    "l=[('Sachin Tendulkar', 34357), ('Ricky Ponting', 27483), ('Jack Kallis', 25534), ('Virat Kohli', 24936)]"
   ]
  },
  {
   "cell_type": "code",
   "execution_count": 24,
   "id": "d780ea99-363c-422a-9d6d-dc1182715f3e",
   "metadata": {},
   "outputs": [],
   "source": [
    "sort_integer = sorted(l,key=lambda x : x[1])"
   ]
  },
  {
   "cell_type": "code",
   "execution_count": 25,
   "id": "c9a94564-b4da-4304-a080-6be605d6ff4c",
   "metadata": {},
   "outputs": [
    {
     "data": {
      "text/plain": [
       "[('Virat Kohli', 24936),\n",
       " ('Jack Kallis', 25534),\n",
       " ('Ricky Ponting', 27483),\n",
       " ('Sachin Tendulkar', 34357)]"
      ]
     },
     "execution_count": 25,
     "metadata": {},
     "output_type": "execute_result"
    }
   ],
   "source": [
    "sort_integer"
   ]
  },
  {
   "cell_type": "code",
   "execution_count": 6,
   "id": "bd2a9956-1bac-409d-8e57-a48ae767b09c",
   "metadata": {},
   "outputs": [],
   "source": [
    "# Q2. Write a Python Program to find the squares of all the numbers in the given list of integers using \n",
    "#  lambda and map functions\n",
    "  # [1, 2, 3, 4, 5, 6, 7, 8, 9, 10]"
   ]
  },
  {
   "cell_type": "code",
   "execution_count": 7,
   "id": "42b15e6e-f438-405b-bf8f-ec99479d18a9",
   "metadata": {},
   "outputs": [],
   "source": [
    " l1 = [1, 2, 3, 4, 5, 6, 7, 8, 9, 10]"
   ]
  },
  {
   "cell_type": "code",
   "execution_count": 8,
   "id": "b1ca0ef3-19ee-45c3-b0ce-944b461e26f9",
   "metadata": {},
   "outputs": [
    {
     "data": {
      "text/plain": [
       "[1, 4, 9, 16, 25, 36, 49, 64, 81, 100]"
      ]
     },
     "execution_count": 8,
     "metadata": {},
     "output_type": "execute_result"
    }
   ],
   "source": [
    "list(map(lambda x : x**2 , l1))"
   ]
  },
  {
   "cell_type": "code",
   "execution_count": 9,
   "id": "8e46bcaf-6768-4391-b6f0-40709f18bece",
   "metadata": {},
   "outputs": [],
   "source": [
    "#  Q3. Write a python program to convert the given list of integers into a tuple of strings. Use map and \n",
    "\n",
    "\n",
    "#     lambda functions\n",
    "\n",
    "#     Given String: [1, 2, 3, 4, 5, 6, 7, 8, 9, 10]\n",
    "\n",
    "#       Expected output: ('1', '2', '3', '4', '5', '6', '7', '8', '9', '10')"
   ]
  },
  {
   "cell_type": "code",
   "execution_count": 10,
   "id": "e7fb1084-de33-4876-8eb0-1610674c6fdc",
   "metadata": {},
   "outputs": [],
   "source": [
    " l2 = [1, 2, 3, 4, 5, 6, 7, 8, 9, 10]"
   ]
  },
  {
   "cell_type": "code",
   "execution_count": 11,
   "id": "d03585f4-620d-4ad6-9975-70c721ea0d04",
   "metadata": {},
   "outputs": [],
   "source": [
    "my_tuple = tuple(map(lambda x: str(x), l2))"
   ]
  },
  {
   "cell_type": "code",
   "execution_count": 12,
   "id": "9852828b-b1ff-4ef2-bbd6-eb9a37d4548f",
   "metadata": {},
   "outputs": [
    {
     "data": {
      "text/plain": [
       "('1', '2', '3', '4', '5', '6', '7', '8', '9', '10')"
      ]
     },
     "execution_count": 12,
     "metadata": {},
     "output_type": "execute_result"
    }
   ],
   "source": [
    "my_tuple"
   ]
  },
  {
   "cell_type": "code",
   "execution_count": 13,
   "id": "84491b61-5314-4622-822c-11c0a5d77551",
   "metadata": {},
   "outputs": [],
   "source": [
    "#   Q4.  Write a python program using reduce function to compute the product of a list containing numbers \n",
    "#     from 1 to 25."
   ]
  },
  {
   "cell_type": "code",
   "execution_count": 19,
   "id": "e4f66929-27c7-4af4-921e-0a295e01c6f6",
   "metadata": {},
   "outputs": [],
   "source": [
    "l3=list(range(1,26))"
   ]
  },
  {
   "cell_type": "code",
   "execution_count": 20,
   "id": "9ffdc27d-c5b0-4764-9af5-7a5eea3fac19",
   "metadata": {},
   "outputs": [
    {
     "data": {
      "text/plain": [
       "[1,\n",
       " 2,\n",
       " 3,\n",
       " 4,\n",
       " 5,\n",
       " 6,\n",
       " 7,\n",
       " 8,\n",
       " 9,\n",
       " 10,\n",
       " 11,\n",
       " 12,\n",
       " 13,\n",
       " 14,\n",
       " 15,\n",
       " 16,\n",
       " 17,\n",
       " 18,\n",
       " 19,\n",
       " 20,\n",
       " 21,\n",
       " 22,\n",
       " 23,\n",
       " 24,\n",
       " 25]"
      ]
     },
     "execution_count": 20,
     "metadata": {},
     "output_type": "execute_result"
    }
   ],
   "source": [
    "l3"
   ]
  },
  {
   "cell_type": "code",
   "execution_count": 22,
   "id": "5c4be652-c892-4043-a2c4-766c7f040c26",
   "metadata": {},
   "outputs": [],
   "source": [
    "from functools import  reduce"
   ]
  },
  {
   "cell_type": "code",
   "execution_count": 23,
   "id": "fa5c23fa-6ebc-413a-85ab-b8945b715e8d",
   "metadata": {},
   "outputs": [
    {
     "data": {
      "text/plain": [
       "15511210043330985984000000"
      ]
     },
     "execution_count": 23,
     "metadata": {},
     "output_type": "execute_result"
    }
   ],
   "source": [
    "reduce(lambda x ,y : x*y , l3)"
   ]
  },
  {
   "cell_type": "code",
   "execution_count": 25,
   "id": "7b734931-037f-4918-931a-882be11d189a",
   "metadata": {},
   "outputs": [],
   "source": [
    "#  Q5. Write a python program to filter the numbers in a given list that are divisible by 2 and 3 using the \n",
    "#     filter function\n",
    "# [2, 3, 6, 9, 27, 60, 90, 120, 55, 46]"
   ]
  },
  {
   "cell_type": "code",
   "execution_count": 32,
   "id": "3d49b328-415d-493a-96cf-94c4841b3445",
   "metadata": {},
   "outputs": [],
   "source": [
    "l4=[2, 3, 6, 9, 27, 60, 90, 120, 55, 46]"
   ]
  },
  {
   "cell_type": "code",
   "execution_count": 33,
   "id": "2e2c1981-220b-44aa-850c-6ea03435857e",
   "metadata": {},
   "outputs": [],
   "source": [
    "result = list(filter(lambda x: x % 2 == 0 and x % 3 == 0,l4 ))\n"
   ]
  },
  {
   "cell_type": "code",
   "execution_count": 34,
   "id": "a21d020c-2d8f-470f-8689-b6638cb0acdf",
   "metadata": {},
   "outputs": [
    {
     "data": {
      "text/plain": [
       "[6, 60, 90, 120]"
      ]
     },
     "execution_count": 34,
     "metadata": {},
     "output_type": "execute_result"
    }
   ],
   "source": [
    "result"
   ]
  },
  {
   "cell_type": "code",
   "execution_count": 31,
   "id": "7fed816b-b24a-4cc0-8c5c-0daea10f7196",
   "metadata": {},
   "outputs": [
    {
     "name": "stdout",
     "output_type": "stream",
     "text": [
      "[6, 60, 90, 120]\n"
     ]
    }
   ],
   "source": [
    "print(result)"
   ]
  },
  {
   "cell_type": "code",
   "execution_count": 35,
   "id": "a4c9f680-dda8-4ceb-baab-3b98a3120de3",
   "metadata": {},
   "outputs": [],
   "source": [
    "# Q6. Write a python program to find palindromes in the given list of strings using lambda and filter \n",
    "#  function.\n",
    "\n",
    "\n",
    "  #  ['python', 'php', 'aba', 'radar', 'level']"
   ]
  },
  {
   "cell_type": "code",
   "execution_count": 1,
   "id": "30110724-39c2-40bd-aa84-70e05822efb6",
   "metadata": {},
   "outputs": [],
   "source": [
    "l5= ['python', 'php', 'aba', 'radar', 'level']"
   ]
  },
  {
   "cell_type": "code",
   "execution_count": 2,
   "id": "792b9a2c-8688-4149-8a80-5c59a6efae8e",
   "metadata": {},
   "outputs": [],
   "source": [
    "result = list(filter(lambda l5: l5 ==l5[::-1],l5 ))"
   ]
  },
  {
   "cell_type": "code",
   "execution_count": 3,
   "id": "83435e22-9db8-495a-8b4e-df04b357988e",
   "metadata": {},
   "outputs": [
    {
     "data": {
      "text/plain": [
       "['php', 'aba', 'radar', 'level']"
      ]
     },
     "execution_count": 3,
     "metadata": {},
     "output_type": "execute_result"
    }
   ],
   "source": [
    "result"
   ]
  },
  {
   "cell_type": "code",
   "execution_count": null,
   "id": "658f4de0-9473-4d7e-9fe2-6ebde73bd66d",
   "metadata": {},
   "outputs": [],
   "source": []
  }
 ],
 "metadata": {
  "kernelspec": {
   "display_name": "Python 3 (ipykernel)",
   "language": "python",
   "name": "python3"
  },
  "language_info": {
   "codemirror_mode": {
    "name": "ipython",
    "version": 3
   },
   "file_extension": ".py",
   "mimetype": "text/x-python",
   "name": "python",
   "nbconvert_exporter": "python",
   "pygments_lexer": "ipython3",
   "version": "3.10.8"
  }
 },
 "nbformat": 4,
 "nbformat_minor": 5
}
